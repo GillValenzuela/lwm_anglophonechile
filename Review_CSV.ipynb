{
  "nbformat": 4,
  "nbformat_minor": 0,
  "metadata": {
    "colab": {
      "provenance": [],
      "collapsed_sections": [
        "vZus_RnnaSk6"
      ]
    },
    "kernelspec": {
      "name": "python3",
      "display_name": "Python 3"
    },
    "language_info": {
      "name": "python"
    }
  },
  "cells": [
    {
      "cell_type": "markdown",
      "source": [
        "##Mount Drive"
      ],
      "metadata": {
        "id": "vZus_RnnaSk6"
      }
    },
    {
      "cell_type": "code",
      "execution_count": null,
      "metadata": {
        "colab": {
          "base_uri": "https://localhost:8080/"
        },
        "id": "d-oE5i3WONPI",
        "outputId": "65526c4a-d869-4e66-8b8a-197b6cfbd595"
      },
      "outputs": [
        {
          "output_type": "stream",
          "name": "stdout",
          "text": [
            "Mounted at /content/gdrive/\n"
          ]
        }
      ],
      "source": [
        "from google.colab import drive\n",
        "\n",
        "drive.mount('/content/gdrive/', force_remount=True)"
      ]
    },
    {
      "cell_type": "code",
      "source": [
        "%cd gdrive/MyDrive/Turing 2023"
      ],
      "metadata": {
        "colab": {
          "base_uri": "https://localhost:8080/"
        },
        "id": "TG77S6yPOPlZ",
        "outputId": "a8a69c18-7366-4afa-e1e1-1eb66b444ef9"
      },
      "execution_count": null,
      "outputs": [
        {
          "output_type": "stream",
          "name": "stdout",
          "text": [
            "/content/gdrive/.shortcut-targets-by-id/1TKg9_9uC3HI5dNoOFlhh1s7MxiDPA0GF/Turing 2023\n"
          ]
        }
      ]
    },
    {
      "cell_type": "code",
      "source": [
        "%cd Extracted Shipping Reports"
      ],
      "metadata": {
        "colab": {
          "base_uri": "https://localhost:8080/"
        },
        "id": "bfoyIlTQOUhB",
        "outputId": "195d85af-cc1a-41ab-cdea-e87113361595"
      },
      "execution_count": null,
      "outputs": [
        {
          "output_type": "stream",
          "name": "stdout",
          "text": [
            "/content/gdrive/.shortcut-targets-by-id/1TKg9_9uC3HI5dNoOFlhh1s7MxiDPA0GF/Turing 2023/Extracted Shipping Reports\n"
          ]
        }
      ]
    },
    {
      "cell_type": "code",
      "source": [
        "%cd shipping_csv_cleaned/PE0001106"
      ],
      "metadata": {
        "colab": {
          "base_uri": "https://localhost:8080/"
        },
        "id": "7Raqjmx7Ov3h",
        "outputId": "0b0c7f65-9f9b-4e34-d680-4dcae79d8e8a"
      },
      "execution_count": null,
      "outputs": [
        {
          "output_type": "stream",
          "name": "stdout",
          "text": [
            "/content/gdrive/.shortcut-targets-by-id/1TKg9_9uC3HI5dNoOFlhh1s7MxiDPA0GF/Turing 2023/Extracted Shipping Reports/shipping_csv_cleaned/PE0001106\n"
          ]
        }
      ]
    },
    {
      "cell_type": "markdown",
      "source": [
        "## Process"
      ],
      "metadata": {
        "id": "zJ3si9oLaW-5"
      }
    },
    {
      "cell_type": "code",
      "source": [
        "import pandas as pd\n",
        "import os"
      ],
      "metadata": {
        "id": "fZ89HaymO6RZ"
      },
      "execution_count": null,
      "outputs": []
    },
    {
      "cell_type": "code",
      "source": [
        "list_files = os.listdir()\n",
        "\n",
        "docs_list = pd.DataFrame({\n",
        "    'name': list_files,\n",
        "    'shipping report': [None] * len(list_files)\n",
        "})\n",
        "\n",
        "print(docs_list)"
      ],
      "metadata": {
        "colab": {
          "base_uri": "https://localhost:8080/"
        },
        "id": "jsD86t6HO82R",
        "outputId": "31d286d1-4a33-47ba-f530-86b312f82067"
      },
      "execution_count": null,
      "outputs": [
        {
          "output_type": "stream",
          "name": "stdout",
          "text": [
            "          name shipping report\n",
            "0      .config            None\n",
            "1       gdrive            None\n",
            "2  sample_data            None\n"
          ]
        }
      ]
    },
    {
      "cell_type": "code",
      "source": [
        "df = pd.DataFrame({})\n",
        "for index, row in docs_list.iterrows():\n",
        "  df_new = pd.read_csv(row['name'])\n",
        "  if not df_new.empty:\n",
        "    df = pd.concat([df,df_new])\n"
      ],
      "metadata": {
        "id": "8rzYYD0jPgoH"
      },
      "execution_count": null,
      "outputs": []
    },
    {
      "cell_type": "code",
      "source": [
        "df['Date'] = pd.to_datetime(df['Date'])"
      ],
      "metadata": {
        "id": "tnFRSff8VS-x"
      },
      "execution_count": null,
      "outputs": []
    },
    {
      "cell_type": "code",
      "source": [
        "import matplotlib.pyplot as plt"
      ],
      "metadata": {
        "id": "KOo5ZWC9ZCrU"
      },
      "execution_count": null,
      "outputs": []
    },
    {
      "cell_type": "code",
      "source": [
        "df.set_index('Date', inplace=True)\n",
        "df_monthly = df.resample('M').sum()\n",
        "top_ports = df.groupby('Port')['Tonnage'].sum().nlargest(5).index\n",
        "df_top_ports = df[df['Port'].isin(top_ports)]\n",
        "df_top_ports_monthly = df_top_ports.groupby(['Port', pd.Grouper(freq='M')])['Tonnage'].sum().unstack(level=0)\n"
      ],
      "metadata": {
        "colab": {
          "base_uri": "https://localhost:8080/"
        },
        "id": "BLJew1yFVqW2",
        "outputId": "488694a9-384a-486e-d6e4-c1a38d3b5552"
      },
      "execution_count": null,
      "outputs": [
        {
          "output_type": "stream",
          "name": "stderr",
          "text": [
            "<ipython-input-10-bff8836a5f19>:2: FutureWarning: The default value of numeric_only in DataFrameGroupBy.sum is deprecated. In a future version, numeric_only will default to False. Either specify numeric_only or select only columns which should be valid for the function.\n",
            "  df_monthly = df.resample('M').sum()\n"
          ]
        }
      ]
    },
    {
      "cell_type": "code",
      "source": [
        "df_top_ports_monthly.plot(kind='bar')\n",
        "plt.xlabel('Month')\n",
        "plt.ylabel('Tonnage')\n",
        "plt.title('Monthly Tonnage by Top 5 Ports')\n",
        "plt.legend(title='Port', loc='best')\n",
        "plt.show()"
      ],
      "metadata": {
        "colab": {
          "base_uri": "https://localhost:8080/",
          "height": 604
        },
        "id": "CGHdl3jFZ2W3",
        "outputId": "64c7548f-9b00-4d6f-9180-e3a59e3d0d6d"
      },
      "execution_count": null,
      "outputs": [
        {
          "output_type": "display_data",
          "data": {
            "text/plain": [
              "<Figure size 640x480 with 1 Axes>"
            ],
            "image/png": "[encoded data removed]"
          },
          "metadata": {}
        }
      ]
    },
    {
      "cell_type": "markdown",
      "source": [
        "## Consignees analysis"
      ],
      "metadata": {
        "id": "ZKaJKcSwozSd"
      }
    },
    {
      "cell_type": "markdown",
      "source": [
        "### Cleaning text"
      ],
      "metadata": {
        "id": "UWHA-VOko2ro"
      }
    },
    {
      "cell_type": "code",
      "source": [
        "import spacy\n",
        "\n",
        "nlp = spacy.load('en_core_web_sm')  # Load English model"
      ],
      "metadata": {
        "id": "TTl2ibw6FKes"
      },
      "execution_count": null,
      "outputs": []
    },
    {
      "cell_type": "code",
      "source": [
        "df['Consignees_lower'] = df['Consignees'].str.replace('[^a-zA-Z\\s]', '').str.replace('\\d+', '').str.lower()\n",
        "df['Consignees_lower'] = df['Consignees_lower'].str.replace(\"   \",\"\")\n",
        "df['Consignees_lower'] = df['Consignees_lower'].str.replace(\"  \",\"\")\n",
        "df['consignees_lemmas'] = df['Consignees_lower'].apply(lambda x: ' '.join([token.lemma_ for token in nlp(x) if not token.is_stop]))\n"
      ],
      "metadata": {
        "colab": {
          "base_uri": "https://localhost:8080/"
        },
        "id": "AxO9w6G2ec3a",
        "outputId": "2e107f58-71c9-466f-bfbd-e4dbfbb30790"
      },
      "execution_count": null,
      "outputs": [
        {
          "output_type": "stream",
          "name": "stderr",
          "text": [
            "<ipython-input-13-971d238a2ac3>:1: FutureWarning: The default value of regex will change from True to False in a future version.\n",
            "  df['Consignees_lower'] = df['Consignees'].str.replace('[^a-zA-Z\\s]', '').str.replace('\\d+', '').str.lower()\n"
          ]
        }
      ]
    },
    {
      "cell_type": "code",
      "source": [
        "## Removing empty data\n",
        "df_not_empty = df.loc[df['Consignees']!='empty']"
      ],
      "metadata": {
        "id": "8iKAfxfJjW_S"
      },
      "execution_count": null,
      "outputs": []
    },
    {
      "cell_type": "code",
      "source": [
        "# Import required libraries\n",
        "from sklearn.feature_extraction.text import TfidfVectorizer\n",
        "from scipy.cluster.hierarchy import linkage, fcluster, dendrogram\n",
        "from sklearn.metrics.pairwise import cosine_similarity\n",
        "import numpy as np\n",
        "\n",
        "# Step 1: Vectorize the names using TF-IDF\n",
        "vectorizer = TfidfVectorizer(min_df=1, analyzer='char', ngram_range=(1,2))\n",
        "tf_idf_matrix = vectorizer.fit_transform(df_not_empty['Consignees_lower'])\n",
        "\n",
        "# Step 2: Compute the similarity matrix\n",
        "similarity_matrix = cosine_similarity(tf_idf_matrix, tf_idf_matrix)\n",
        "\n",
        "# Convert the similarity matrix to a distance matrix and replace any negative values with zero\n",
        "dist_matrix = 1 - similarity_matrix\n",
        "dist_matrix[dist_matrix < 0] = 0\n",
        "\n",
        "# Convert the distance matrix to a condensed distance matrix\n",
        "condensed_matrix = dist_matrix[np.triu_indices(dist_matrix.shape[0], k=1)]\n",
        "\n",
        "# Step 3: Perform hierarchical clustering\n",
        "Z = linkage(condensed_matrix, method='average')\n",
        "\n",
        "# Set your desired distance threshold\n",
        "distance_threshold = 0.5\n",
        "\n",
        "# Assign each name to a cluster based on the distance threshold\n",
        "clusters = fcluster(Z, t=distance_threshold, criterion='distance')\n",
        "\n",
        "# Add the cluster assignments to the dataframe\n",
        "df_not_empty['cluster'] = clusters\n",
        "\n",
        "# Display the dataframe sorted by cluster\n",
        "df_not_empty.sort_values(by='cluster')\n"
      ],
      "metadata": {
        "colab": {
          "base_uri": "https://localhost:8080/",
          "height": 800
        },
        "id": "s1cbhc1siUpc",
        "outputId": "54d65167-8117-4b2b-a099-ec0a2db8d87e"
      },
      "execution_count": null,
      "outputs": [
        {
          "output_type": "stream",
          "name": "stderr",
          "text": [
            "<ipython-input-15-054bfbe9a7cb>:31: SettingWithCopyWarning: \n",
            "A value is trying to be set on a copy of a slice from a DataFrame.\n",
            "Try using .loc[row_indexer,col_indexer] = value instead\n",
            "\n",
            "See the caveats in the documentation: https://pandas.pydata.org/pandas-docs/stable/user_guide/indexing.html#returning-a-view-versus-a-copy\n",
            "  df_not_empty['cluster'] = clusters\n"
          ]
        },
        {
          "output_type": "execute_result",
          "data": {
            "text/plain": [
              "                   Port         Name  Tonnage            Consignees   Cargo  \\\n",
              "Date                                                                          \n",
              "1904-08-21  Antofagasta    Craigerne   1774.0            Gibbs & Co    Coal   \n",
              "1904-10-22       Taltal      Hilston   1897.0           Gibbs y Cia    Coal   \n",
              "1904-08-29    Tocopilla         Wega   1945.0            Gibbs & Co    Coal   \n",
              "1904-08-29  Antofagasta   James Kerr   2228.0            Gibbs & Co    Coal   \n",
              "1904-08-25     Carrizal     Falstaff   1419.0            Gibbs & Co    Coal   \n",
              "...                 ...          ...      ...                   ...     ...   \n",
              "1904-11-06       Taltal    Glenclova   2246.0       F. C. de Taltal    Coal   \n",
              "1904-12-01  Antofagasta   Alala S. S   2041.0     Antofagasta R'way    Coal   \n",
              "1904-09-26   Antofagata  Ashanti S.S   2186.0  F. C. de Antofagasta    Coal   \n",
              "1904-11-16   Valparaiso      Kinross   1399.0     Beéche Duval & Co  Lumber   \n",
              "1904-09-01       Taltal       Aquila    998.0           J. P. Pellé    Bags   \n",
              "\n",
              "              Consignees_lower   consignees_lemmas  cluster  \n",
              "Date                                                         \n",
              "1904-08-21             gibbsco             gibbsco        1  \n",
              "1904-10-22         gibbs y cia         gibbs y cia        1  \n",
              "1904-08-29             gibbsco             gibbsco        1  \n",
              "1904-08-29             gibbsco             gibbsco        1  \n",
              "1904-08-25             gibbsco             gibbsco        1  \n",
              "...                        ...                 ...      ...  \n",
              "1904-11-06       f c de taltal       f c de taltal       25  \n",
              "1904-12-01    antofagasta rway    antofagasta rway       26  \n",
              "1904-09-26  f c de antofagasta  f c de antofagasta       26  \n",
              "1904-11-16       beche duvalco       beche duvalco       27  \n",
              "1904-09-01            j p pell            j p pell       28  \n",
              "\n",
              "[180 rows x 8 columns]"
            ],
            "text/html": [
              "\n",
              "\n",
              "  <div id=\"df-92f9cf40-2cae-456a-8343-2d1607e25c1a\">\n",
              "    <div class=\"colab-df-container\">\n",
              "      <div>\n",
              "<style scoped>\n",
              "    .dataframe tbody tr th:only-of-type {\n",
              "        vertical-align: middle;\n",
              "    }\n",
              "\n",
              "    .dataframe tbody tr th {\n",
              "        vertical-align: top;\n",
              "    }\n",
              "\n",
              "    .dataframe thead th {\n",
              "        text-align: right;\n",
              "    }\n",
              "</style>\n",
              "<table border=\"1\" class=\"dataframe\">\n",
              "  <thead>\n",
              "    <tr style=\"text-align: right;\">\n",
              "      <th></th>\n",
              "      <th>Port</th>\n",
              "      <th>Name</th>\n",
              "      <th>Tonnage</th>\n",
              "      <th>Consignees</th>\n",
              "      <th>Cargo</th>\n",
              "      <th>Consignees_lower</th>\n",
              "      <th>consignees_lemmas</th>\n",
              "      <th>cluster</th>\n",
              "    </tr>\n",
              "    <tr>\n",
              "      <th>Date</th>\n",
              "      <th></th>\n",
              "      <th></th>\n",
              "      <th></th>\n",
              "      <th></th>\n",
              "      <th></th>\n",
              "      <th></th>\n",
              "      <th></th>\n",
              "      <th></th>\n",
              "    </tr>\n",
              "  </thead>\n",
              "  <tbody>\n",
              "    <tr>\n",
              "      <th>1904-08-21</th>\n",
              "      <td>Antofagasta</td>\n",
              "      <td>Craigerne</td>\n",
              "      <td>1774.0</td>\n",
              "      <td>Gibbs &amp; Co</td>\n",
              "      <td>Coal</td>\n",
              "      <td>gibbsco</td>\n",
              "      <td>gibbsco</td>\n",
              "      <td>1</td>\n",
              "    </tr>\n",
              "    <tr>\n",
              "      <th>1904-10-22</th>\n",
              "      <td>Taltal</td>\n",
              "      <td>Hilston</td>\n",
              "      <td>1897.0</td>\n",
              "      <td>Gibbs y Cia</td>\n",
              "      <td>Coal</td>\n",
              "      <td>gibbs y cia</td>\n",
              "      <td>gibbs y cia</td>\n",
              "      <td>1</td>\n",
              "    </tr>\n",
              "    <tr>\n",
              "      <th>1904-08-29</th>\n",
              "      <td>Tocopilla</td>\n",
              "      <td>Wega</td>\n",
              "      <td>1945.0</td>\n",
              "      <td>Gibbs &amp; Co</td>\n",
              "      <td>Coal</td>\n",
              "      <td>gibbsco</td>\n",
              "      <td>gibbsco</td>\n",
              "      <td>1</td>\n",
              "    </tr>\n",
              "    <tr>\n",
              "      <th>1904-08-29</th>\n",
              "      <td>Antofagasta</td>\n",
              "      <td>James Kerr</td>\n",
              "      <td>2228.0</td>\n",
              "      <td>Gibbs &amp; Co</td>\n",
              "      <td>Coal</td>\n",
              "      <td>gibbsco</td>\n",
              "      <td>gibbsco</td>\n",
              "      <td>1</td>\n",
              "    </tr>\n",
              "    <tr>\n",
              "      <th>1904-08-25</th>\n",
              "      <td>Carrizal</td>\n",
              "      <td>Falstaff</td>\n",
              "      <td>1419.0</td>\n",
              "      <td>Gibbs &amp; Co</td>\n",
              "      <td>Coal</td>\n",
              "      <td>gibbsco</td>\n",
              "      <td>gibbsco</td>\n",
              "      <td>1</td>\n",
              "    </tr>\n",
              "    <tr>\n",
              "      <th>...</th>\n",
              "      <td>...</td>\n",
              "      <td>...</td>\n",
              "      <td>...</td>\n",
              "      <td>...</td>\n",
              "      <td>...</td>\n",
              "      <td>...</td>\n",
              "      <td>...</td>\n",
              "      <td>...</td>\n",
              "    </tr>\n",
              "    <tr>\n",
              "      <th>1904-11-06</th>\n",
              "      <td>Taltal</td>\n",
              "      <td>Glenclova</td>\n",
              "      <td>2246.0</td>\n",
              "      <td>F. C. de Taltal</td>\n",
              "      <td>Coal</td>\n",
              "      <td>f c de taltal</td>\n",
              "      <td>f c de taltal</td>\n",
              "      <td>25</td>\n",
              "    </tr>\n",
              "    <tr>\n",
              "      <th>1904-12-01</th>\n",
              "      <td>Antofagasta</td>\n",
              "      <td>Alala S. S</td>\n",
              "      <td>2041.0</td>\n",
              "      <td>Antofagasta R'way</td>\n",
              "      <td>Coal</td>\n",
              "      <td>antofagasta rway</td>\n",
              "      <td>antofagasta rway</td>\n",
              "      <td>26</td>\n",
              "    </tr>\n",
              "    <tr>\n",
              "      <th>1904-09-26</th>\n",
              "      <td>Antofagata</td>\n",
              "      <td>Ashanti S.S</td>\n",
              "      <td>2186.0</td>\n",
              "      <td>F. C. de Antofagasta</td>\n",
              "      <td>Coal</td>\n",
              "      <td>f c de antofagasta</td>\n",
              "      <td>f c de antofagasta</td>\n",
              "      <td>26</td>\n",
              "    </tr>\n",
              "    <tr>\n",
              "      <th>1904-11-16</th>\n",
              "      <td>Valparaiso</td>\n",
              "      <td>Kinross</td>\n",
              "      <td>1399.0</td>\n",
              "      <td>Beéche Duval &amp; Co</td>\n",
              "      <td>Lumber</td>\n",
              "      <td>beche duvalco</td>\n",
              "      <td>beche duvalco</td>\n",
              "      <td>27</td>\n",
              "    </tr>\n",
              "    <tr>\n",
              "      <th>1904-09-01</th>\n",
              "      <td>Taltal</td>\n",
              "      <td>Aquila</td>\n",
              "      <td>998.0</td>\n",
              "      <td>J. P. Pellé</td>\n",
              "      <td>Bags</td>\n",
              "      <td>j p pell</td>\n",
              "      <td>j p pell</td>\n",
              "      <td>28</td>\n",
              "    </tr>\n",
              "  </tbody>\n",
              "</table>\n",
              "<p>180 rows × 8 columns</p>\n",
              "</div>\n",
              "      <button class=\"colab-df-convert\" onclick=\"convertToInteractive('df-92f9cf40-2cae-456a-8343-2d1607e25c1a')\"\n",
              "              title=\"Convert this dataframe to an interactive table.\"\n",
              "              style=\"display:none;\">\n",
              "\n",
              "  <svg xmlns=\"http://www.w3.org/2000/svg\" height=\"24px\"viewBox=\"0 0 24 24\"\n",
              "       width=\"24px\">\n",
              "    <path d=\"M0 0h24v24H0V0z\" fill=\"none\"/>\n",
              "    <path d=\"M18.56 5.44l.94 2.06.94-2.06 2.06-.94-2.06-.94-.94-2.06-.94 2.06-2.06.94zm-11 1L8.5 8.5l.94-2.06 2.06-.94-2.06-.94L8.5 2.5l-.94 2.06-2.06.94zm10 10l.94 2.06.94-2.06 2.06-.94-2.06-.94-.94-2.06-.94 2.06-2.06.94z\"/><path d=\"M17.41 7.96l-1.37-1.37c-.4-.4-.92-.59-1.43-.59-.52 0-1.04.2-1.43.59L10.3 9.45l-7.72 7.72c-.78.78-.78 2.05 0 2.83L4 21.41c.39.39.9.59 1.41.59.51 0 1.02-.2 1.41-.59l7.78-7.78 2.81-2.81c.8-.78.8-2.07 0-2.86zM5.41 20L4 18.59l7.72-7.72 1.47 1.35L5.41 20z\"/>\n",
              "  </svg>\n",
              "      </button>\n",
              "\n",
              "\n",
              "\n",
              "    <div id=\"df-744ea33d-6bff-49b7-9a84-6ac8e0fb6482\">\n",
              "      <button class=\"colab-df-quickchart\" onclick=\"quickchart('df-744ea33d-6bff-49b7-9a84-6ac8e0fb6482')\"\n",
              "              title=\"Suggest charts.\"\n",
              "              style=\"display:none;\">\n",
              "\n",
              "<svg xmlns=\"http://www.w3.org/2000/svg\" height=\"24px\"viewBox=\"0 0 24 24\"\n",
              "     width=\"24px\">\n",
              "    <g>\n",
              "        <path d=\"M19 3H5c-1.1 0-2 .9-2 2v14c0 1.1.9 2 2 2h14c1.1 0 2-.9 2-2V5c0-1.1-.9-2-2-2zM9 17H7v-7h2v7zm4 0h-2V7h2v10zm4 0h-2v-4h2v4z\"/>\n",
              "    </g>\n",
              "</svg>\n",
              "      </button>\n",
              "    </div>\n",
              "\n",
              "<style>\n",
              "  .colab-df-quickchart {\n",
              "    background-color: #E8F0FE;\n",
              "    border: none;\n",
              "    border-radius: 50%;\n",
              "    cursor: pointer;\n",
              "    display: none;\n",
              "    fill: #1967D2;\n",
              "    height: 32px;\n",
              "    padding: 0 0 0 0;\n",
              "    width: 32px;\n",
              "  }\n",
              "\n",
              "  .colab-df-quickchart:hover {\n",
              "    background-color: #E2EBFA;\n",
              "    box-shadow: 0px 1px 2px rgba(60, 64, 67, 0.3), 0px 1px 3px 1px rgba(60, 64, 67, 0.15);\n",
              "    fill: #174EA6;\n",
              "  }\n",
              "\n",
              "  [theme=dark] .colab-df-quickchart {\n",
              "    background-color: #3B4455;\n",
              "    fill: #D2E3FC;\n",
              "  }\n",
              "\n",
              "  [theme=dark] .colab-df-quickchart:hover {\n",
              "    background-color: #434B5C;\n",
              "    box-shadow: 0px 1px 3px 1px rgba(0, 0, 0, 0.15);\n",
              "    filter: drop-shadow(0px 1px 2px rgba(0, 0, 0, 0.3));\n",
              "    fill: #FFFFFF;\n",
              "  }\n",
              "</style>\n",
              "\n",
              "    <script>\n",
              "      async function quickchart(key) {\n",
              "        const containerElement = document.querySelector('#' + key);\n",
              "        const charts = await google.colab.kernel.invokeFunction(\n",
              "            'suggestCharts', [key], {});\n",
              "      }\n",
              "    </script>\n",
              "\n",
              "      <script>\n",
              "\n",
              "function displayQuickchartButton(domScope) {\n",
              "  let quickchartButtonEl =\n",
              "    domScope.querySelector('#df-744ea33d-6bff-49b7-9a84-6ac8e0fb6482 button.colab-df-quickchart');\n",
              "  quickchartButtonEl.style.display =\n",
              "    google.colab.kernel.accessAllowed ? 'block' : 'none';\n",
              "}\n",
              "\n",
              "        displayQuickchartButton(document);\n",
              "      </script>\n",
              "      <style>\n",
              "    .colab-df-container {\n",
              "      display:flex;\n",
              "      flex-wrap:wrap;\n",
              "      gap: 12px;\n",
              "    }\n",
              "\n",
              "    .colab-df-convert {\n",
              "      background-color: #E8F0FE;\n",
              "      border: none;\n",
              "      border-radius: 50%;\n",
              "      cursor: pointer;\n",
              "      display: none;\n",
              "      fill: #1967D2;\n",
              "      height: 32px;\n",
              "      padding: 0 0 0 0;\n",
              "      width: 32px;\n",
              "    }\n",
              "\n",
              "    .colab-df-convert:hover {\n",
              "      background-color: #E2EBFA;\n",
              "      box-shadow: 0px 1px 2px rgba(60, 64, 67, 0.3), 0px 1px 3px 1px rgba(60, 64, 67, 0.15);\n",
              "      fill: #174EA6;\n",
              "    }\n",
              "\n",
              "    [theme=dark] .colab-df-convert {\n",
              "      background-color: #3B4455;\n",
              "      fill: #D2E3FC;\n",
              "    }\n",
              "\n",
              "    [theme=dark] .colab-df-convert:hover {\n",
              "      background-color: #434B5C;\n",
              "      box-shadow: 0px 1px 3px 1px rgba(0, 0, 0, 0.15);\n",
              "      filter: drop-shadow(0px 1px 2px rgba(0, 0, 0, 0.3));\n",
              "      fill: #FFFFFF;\n",
              "    }\n",
              "  </style>\n",
              "\n",
              "      <script>\n",
              "        const buttonEl =\n",
              "          document.querySelector('#df-92f9cf40-2cae-456a-8343-2d1607e25c1a button.colab-df-convert');\n",
              "        buttonEl.style.display =\n",
              "          google.colab.kernel.accessAllowed ? 'block' : 'none';\n",
              "\n",
              "        async function convertToInteractive(key) {\n",
              "          const element = document.querySelector('#df-92f9cf40-2cae-456a-8343-2d1607e25c1a');\n",
              "          const dataTable =\n",
              "            await google.colab.kernel.invokeFunction('convertToInteractive',\n",
              "                                                     [key], {});\n",
              "          if (!dataTable) return;\n",
              "\n",
              "          const docLinkHtml = 'Like what you see? Visit the ' +\n",
              "            '<a target=\"_blank\" href=https://colab.research.google.com/notebooks/data_table.ipynb>data table notebook</a>'\n",
              "            + ' to learn more about interactive tables.';\n",
              "          element.innerHTML = '';\n",
              "          dataTable['output_type'] = 'display_data';\n",
              "          await google.colab.output.renderOutput(dataTable, element);\n",
              "          const docLink = document.createElement('div');\n",
              "          docLink.innerHTML = docLinkHtml;\n",
              "          element.appendChild(docLink);\n",
              "        }\n",
              "      </script>\n",
              "    </div>\n",
              "  </div>\n"
            ]
          },
          "metadata": {},
          "execution_count": 15
        }
      ]
    },
    {
      "cell_type": "code",
      "source": [
        "# Plot the dendrogram\n",
        "plt.figure(figsize=(10, 5))\n",
        "dendrogram(Z, labels=df_not_empty['Consignees_lower'].tolist(), leaf_rotation=90)\n",
        "plt.show()"
      ],
      "metadata": {
        "colab": {
          "base_uri": "https://localhost:8080/",
          "height": 481
        },
        "id": "tJAQw-tDlZ7g",
        "outputId": "0bc6722b-8518-4257-d953-11fcae99d68d"
      },
      "execution_count": null,
      "outputs": [
        {
          "output_type": "display_data",
          "data": {
            "text/plain": [
              "<Figure size 1000x500 with 1 Axes>"
            ],
            "image/png": "[encoded data removed]"
          },
          "metadata": {}
        }
      ]
    },
    {
      "cell_type": "code",
      "source": [
        "# Group by the cluster and get the first name in each cluster\n",
        "representative_names = df_not_empty.groupby('cluster')['Consignees'].first()\n",
        "\n",
        "# Now, representative_names is a series where the index is the cluster number and the value is the representative name\n",
        "# You can convert it to a dictionary for easier lookup\n",
        "representative_names_dict = representative_names.to_dict()\n",
        "\n",
        "# Add a new column to the dataframe with the representative name for each cluster\n",
        "df_not_empty['representative_name'] = df_not_empty['cluster'].map(representative_names_dict)\n"
      ],
      "metadata": {
        "colab": {
          "base_uri": "https://localhost:8080/"
        },
        "id": "5PDKM_azng1k",
        "outputId": "25415bbb-b1bf-4616-bb44-f6a44e1d69eb"
      },
      "execution_count": null,
      "outputs": [
        {
          "output_type": "stream",
          "name": "stderr",
          "text": [
            "<ipython-input-17-ba04cb85207f>:9: SettingWithCopyWarning: \n",
            "A value is trying to be set on a copy of a slice from a DataFrame.\n",
            "Try using .loc[row_indexer,col_indexer] = value instead\n",
            "\n",
            "See the caveats in the documentation: https://pandas.pydata.org/pandas-docs/stable/user_guide/indexing.html#returning-a-view-versus-a-copy\n",
            "  df_not_empty['representative_name'] = df_not_empty['cluster'].map(representative_names_dict)\n"
          ]
        }
      ]
    },
    {
      "cell_type": "code",
      "source": [
        "df_not_empty.to_csv('combined.csv')"
      ],
      "metadata": {
        "id": "sgJ17up-FZEw"
      },
      "execution_count": null,
      "outputs": []
    },
    {
      "cell_type": "code",
      "source": [
        "top_consignees = df_not_empty.groupby('representative_name')['Tonnage'].sum().nlargest(5).index\n",
        "df_top_consignees = df_not_empty[df_not_empty['representative_name'].isin(top_consignees)]\n",
        "df_top_consignees_monthly = df_top_consignees.groupby(['representative_name', pd.Grouper(freq='M')])['Tonnage'].sum().unstack(level=0)\n"
      ],
      "metadata": {
        "id": "7IfIR8zAdCFQ"
      },
      "execution_count": null,
      "outputs": []
    },
    {
      "cell_type": "code",
      "source": [
        "df_top_consignees_monthly.plot(kind='bar')\n",
        "plt.xlabel('Month')\n",
        "plt.ylabel('Tonnage')\n",
        "plt.title('Monthly Tonnage by Top 5 Consignees')\n",
        "plt.legend(title='Consignees', loc='best')\n",
        "plt.show()"
      ],
      "metadata": {
        "colab": {
          "base_uri": "https://localhost:8080/",
          "height": 604
        },
        "id": "nnyiXALldN12",
        "outputId": "510e393c-2b67-4330-ca48-7584679a6c7e"
      },
      "execution_count": null,
      "outputs": [
        {
          "output_type": "display_data",
          "data": {
            "text/plain": [
              "<Figure size 640x480 with 1 Axes>"
            ],
            "image/png": "[encoded data removed]"
          },
          "metadata": {}
        }
      ]
    },
    {
      "cell_type": "markdown",
      "source": [
        "## Names check"
      ],
      "metadata": {
        "id": "xoXXTCVdbJpm"
      }
    },
    {
      "cell_type": "code",
      "source": [
        "import spacy\n",
        "from spacy import displacy\n",
        "from sklearn.feature_extraction.text import TfidfVectorizer\n",
        "from sklearn.cluster import KMeans"
      ],
      "metadata": {
        "id": "3FKDr3MdbJBg"
      },
      "execution_count": null,
      "outputs": []
    },
    {
      "cell_type": "code",
      "source": [
        "df['Name_lower'] = df['Name'].str.replace('[^a-zA-Z\\s]', '').str.replace('\\d+', '').str.lower()"
      ],
      "metadata": {
        "colab": {
          "base_uri": "https://localhost:8080/"
        },
        "id": "B6ug-WqlbRVY",
        "outputId": "add0038a-4a81-4e84-8f0a-5dbc0ccce57f"
      },
      "execution_count": null,
      "outputs": [
        {
          "output_type": "stream",
          "name": "stderr",
          "text": [
            "<ipython-input-34-5e82bdffde45>:1: FutureWarning: The default value of regex will change from True to False in a future version.\n",
            "  df['Name'] = df['Name'].str.replace('[^a-zA-Z\\s]', '').str.replace('\\d+', '').str.lower()\n"
          ]
        }
      ]
    },
    {
      "cell_type": "code",
      "source": [
        "nlp = spacy.load('en_core_web_sm')"
      ],
      "metadata": {
        "id": "eue6il4zbYzO"
      },
      "execution_count": null,
      "outputs": []
    },
    {
      "cell_type": "code",
      "source": [
        "df['lemmas'] = df['Name_lower'].apply(lambda x: ' '.join([token.lemma_ for token in nlp(x) if not token.is_stop]))\n",
        "vectorizer = TfidfVectorizer()\n",
        "vectors = vectorizer.fit_transform(df['lemmas'])\n",
        "kmeans = KMeans(n_clusters=5, random_state=42)\n",
        "clusters = kmeans.fit_predict(vectors)\n",
        "df['cluster'] = clusters\n"
      ],
      "metadata": {
        "id": "LXRpKVWFbdDG"
      },
      "execution_count": null,
      "outputs": []
    },
    {
      "cell_type": "code",
      "source": [
        "for cluster in df['cluster'].unique():\n",
        "    names = df[df['cluster'] == cluster]['Name_lower'].tolist()\n",
        "    text = '\\n'.join(names)\n",
        "    doc = nlp(text)\n",
        "    displacy.render(doc, style='ent', jupyter=True)"
      ],
      "metadata": {
        "id": "HdqwBFoEcwah"
      },
      "execution_count": null,
      "outputs": []
    },
    {
      "cell_type": "code",
      "source": [
        "df"
      ],
      "metadata": {
        "colab": {
          "base_uri": "https://localhost:8080/",
          "height": 687
        },
        "id": "FruKDohncEpO",
        "outputId": "6444e7e8-f18e-48b1-9c1f-d20c5bfc37fe"
      },
      "execution_count": null,
      "outputs": [
        {
          "output_type": "execute_result",
          "data": {
            "text/plain": [
              "                   Port             Name  Tonnage           Consignees  \\\n",
              "Date                                                                     \n",
              "1904-07-24   Valparaiso             lita   1643.0   G. C. Kenrick & Co   \n",
              "1904-07-25   Valparaiso             carl   1205.0   Inglis, Lomax & Co   \n",
              "1904-07-26   Valparaiso         allerton   1938.0  James & Alex. Brown   \n",
              "1904-07-27      Iquique      kate thomas   1597.0                empty   \n",
              "1904-07-28      Iquique  michele bianchi   1657.0                empty   \n",
              "...                 ...              ...      ...                  ...   \n",
              "1904-12-11       Callao           eudora   1861.0                empty   \n",
              "1904-12-24  Peña Blanca             irby   1480.0     Graham Rowe & Co   \n",
              "1904-12-23   Valparaiso       macdiarmid   1568.0  Williamson, B. & Co   \n",
              "1904-12-28   Valparaiso            speme   1134.0   G. C. Kenrick & Co   \n",
              "1904-12-30   Valparaiso   frances fisher   1359.0     Graham Rowe & Co   \n",
              "\n",
              "              Cargo           lemmas  cluster  \n",
              "Date                                           \n",
              "1904-07-24     Coal             lita        1  \n",
              "1904-07-25     Coal             carl        1  \n",
              "1904-07-26     Coal         allerton        1  \n",
              "1904-07-27     Coal      kate thomas        1  \n",
              "1904-07-28  Ballast  michele bianchi        1  \n",
              "...             ...              ...      ...  \n",
              "1904-12-11  General           eudora        1  \n",
              "1904-12-24     Coal             irby        1  \n",
              "1904-12-23   Cement       macdiarmid        1  \n",
              "1904-12-28     Coal            speme        1  \n",
              "1904-12-30     Coke    france fisher        1  \n",
              "\n",
              "[243 rows x 7 columns]"
            ],
            "text/html": [
              "\n",
              "\n",
              "  <div id=\"df-0fc3e80e-e52e-4d63-a017-cada15372fc5\">\n",
              "    <div class=\"colab-df-container\">\n",
              "      <div>\n",
              "<style scoped>\n",
              "    .dataframe tbody tr th:only-of-type {\n",
              "        vertical-align: middle;\n",
              "    }\n",
              "\n",
              "    .dataframe tbody tr th {\n",
              "        vertical-align: top;\n",
              "    }\n",
              "\n",
              "    .dataframe thead th {\n",
              "        text-align: right;\n",
              "    }\n",
              "</style>\n",
              "<table border=\"1\" class=\"dataframe\">\n",
              "  <thead>\n",
              "    <tr style=\"text-align: right;\">\n",
              "      <th></th>\n",
              "      <th>Port</th>\n",
              "      <th>Name</th>\n",
              "      <th>Tonnage</th>\n",
              "      <th>Consignees</th>\n",
              "      <th>Cargo</th>\n",
              "      <th>lemmas</th>\n",
              "      <th>cluster</th>\n",
              "    </tr>\n",
              "    <tr>\n",
              "      <th>Date</th>\n",
              "      <th></th>\n",
              "      <th></th>\n",
              "      <th></th>\n",
              "      <th></th>\n",
              "      <th></th>\n",
              "      <th></th>\n",
              "      <th></th>\n",
              "    </tr>\n",
              "  </thead>\n",
              "  <tbody>\n",
              "    <tr>\n",
              "      <th>1904-07-24</th>\n",
              "      <td>Valparaiso</td>\n",
              "      <td>lita</td>\n",
              "      <td>1643.0</td>\n",
              "      <td>G. C. Kenrick &amp; Co</td>\n",
              "      <td>Coal</td>\n",
              "      <td>lita</td>\n",
              "      <td>1</td>\n",
              "    </tr>\n",
              "    <tr>\n",
              "      <th>1904-07-25</th>\n",
              "      <td>Valparaiso</td>\n",
              "      <td>carl</td>\n",
              "      <td>1205.0</td>\n",
              "      <td>Inglis, Lomax &amp; Co</td>\n",
              "      <td>Coal</td>\n",
              "      <td>carl</td>\n",
              "      <td>1</td>\n",
              "    </tr>\n",
              "    <tr>\n",
              "      <th>1904-07-26</th>\n",
              "      <td>Valparaiso</td>\n",
              "      <td>allerton</td>\n",
              "      <td>1938.0</td>\n",
              "      <td>James &amp; Alex. Brown</td>\n",
              "      <td>Coal</td>\n",
              "      <td>allerton</td>\n",
              "      <td>1</td>\n",
              "    </tr>\n",
              "    <tr>\n",
              "      <th>1904-07-27</th>\n",
              "      <td>Iquique</td>\n",
              "      <td>kate thomas</td>\n",
              "      <td>1597.0</td>\n",
              "      <td>empty</td>\n",
              "      <td>Coal</td>\n",
              "      <td>kate thomas</td>\n",
              "      <td>1</td>\n",
              "    </tr>\n",
              "    <tr>\n",
              "      <th>1904-07-28</th>\n",
              "      <td>Iquique</td>\n",
              "      <td>michele bianchi</td>\n",
              "      <td>1657.0</td>\n",
              "      <td>empty</td>\n",
              "      <td>Ballast</td>\n",
              "      <td>michele bianchi</td>\n",
              "      <td>1</td>\n",
              "    </tr>\n",
              "    <tr>\n",
              "      <th>...</th>\n",
              "      <td>...</td>\n",
              "      <td>...</td>\n",
              "      <td>...</td>\n",
              "      <td>...</td>\n",
              "      <td>...</td>\n",
              "      <td>...</td>\n",
              "      <td>...</td>\n",
              "    </tr>\n",
              "    <tr>\n",
              "      <th>1904-12-11</th>\n",
              "      <td>Callao</td>\n",
              "      <td>eudora</td>\n",
              "      <td>1861.0</td>\n",
              "      <td>empty</td>\n",
              "      <td>General</td>\n",
              "      <td>eudora</td>\n",
              "      <td>1</td>\n",
              "    </tr>\n",
              "    <tr>\n",
              "      <th>1904-12-24</th>\n",
              "      <td>Peña Blanca</td>\n",
              "      <td>irby</td>\n",
              "      <td>1480.0</td>\n",
              "      <td>Graham Rowe &amp; Co</td>\n",
              "      <td>Coal</td>\n",
              "      <td>irby</td>\n",
              "      <td>1</td>\n",
              "    </tr>\n",
              "    <tr>\n",
              "      <th>1904-12-23</th>\n",
              "      <td>Valparaiso</td>\n",
              "      <td>macdiarmid</td>\n",
              "      <td>1568.0</td>\n",
              "      <td>Williamson, B. &amp; Co</td>\n",
              "      <td>Cement</td>\n",
              "      <td>macdiarmid</td>\n",
              "      <td>1</td>\n",
              "    </tr>\n",
              "    <tr>\n",
              "      <th>1904-12-28</th>\n",
              "      <td>Valparaiso</td>\n",
              "      <td>speme</td>\n",
              "      <td>1134.0</td>\n",
              "      <td>G. C. Kenrick &amp; Co</td>\n",
              "      <td>Coal</td>\n",
              "      <td>speme</td>\n",
              "      <td>1</td>\n",
              "    </tr>\n",
              "    <tr>\n",
              "      <th>1904-12-30</th>\n",
              "      <td>Valparaiso</td>\n",
              "      <td>frances fisher</td>\n",
              "      <td>1359.0</td>\n",
              "      <td>Graham Rowe &amp; Co</td>\n",
              "      <td>Coke</td>\n",
              "      <td>france fisher</td>\n",
              "      <td>1</td>\n",
              "    </tr>\n",
              "  </tbody>\n",
              "</table>\n",
              "<p>243 rows × 7 columns</p>\n",
              "</div>\n",
              "      <button class=\"colab-df-convert\" onclick=\"convertToInteractive('df-0fc3e80e-e52e-4d63-a017-cada15372fc5')\"\n",
              "              title=\"Convert this dataframe to an interactive table.\"\n",
              "              style=\"display:none;\">\n",
              "\n",
              "  <svg xmlns=\"http://www.w3.org/2000/svg\" height=\"24px\"viewBox=\"0 0 24 24\"\n",
              "       width=\"24px\">\n",
              "    <path d=\"M0 0h24v24H0V0z\" fill=\"none\"/>\n",
              "    <path d=\"M18.56 5.44l.94 2.06.94-2.06 2.06-.94-2.06-.94-.94-2.06-.94 2.06-2.06.94zm-11 1L8.5 8.5l.94-2.06 2.06-.94-2.06-.94L8.5 2.5l-.94 2.06-2.06.94zm10 10l.94 2.06.94-2.06 2.06-.94-2.06-.94-.94-2.06-.94 2.06-2.06.94z\"/><path d=\"M17.41 7.96l-1.37-1.37c-.4-.4-.92-.59-1.43-.59-.52 0-1.04.2-1.43.59L10.3 9.45l-7.72 7.72c-.78.78-.78 2.05 0 2.83L4 21.41c.39.39.9.59 1.41.59.51 0 1.02-.2 1.41-.59l7.78-7.78 2.81-2.81c.8-.78.8-2.07 0-2.86zM5.41 20L4 18.59l7.72-7.72 1.47 1.35L5.41 20z\"/>\n",
              "  </svg>\n",
              "      </button>\n",
              "\n",
              "\n",
              "\n",
              "    <div id=\"df-6d808782-2455-47ee-b9f0-e6874b98339e\">\n",
              "      <button class=\"colab-df-quickchart\" onclick=\"quickchart('df-6d808782-2455-47ee-b9f0-e6874b98339e')\"\n",
              "              title=\"Suggest charts.\"\n",
              "              style=\"display:none;\">\n",
              "\n",
              "<svg xmlns=\"http://www.w3.org/2000/svg\" height=\"24px\"viewBox=\"0 0 24 24\"\n",
              "     width=\"24px\">\n",
              "    <g>\n",
              "        <path d=\"M19 3H5c-1.1 0-2 .9-2 2v14c0 1.1.9 2 2 2h14c1.1 0 2-.9 2-2V5c0-1.1-.9-2-2-2zM9 17H7v-7h2v7zm4 0h-2V7h2v10zm4 0h-2v-4h2v4z\"/>\n",
              "    </g>\n",
              "</svg>\n",
              "      </button>\n",
              "    </div>\n",
              "\n",
              "<style>\n",
              "  .colab-df-quickchart {\n",
              "    background-color: #E8F0FE;\n",
              "    border: none;\n",
              "    border-radius: 50%;\n",
              "    cursor: pointer;\n",
              "    display: none;\n",
              "    fill: #1967D2;\n",
              "    height: 32px;\n",
              "    padding: 0 0 0 0;\n",
              "    width: 32px;\n",
              "  }\n",
              "\n",
              "  .colab-df-quickchart:hover {\n",
              "    background-color: #E2EBFA;\n",
              "    box-shadow: 0px 1px 2px rgba(60, 64, 67, 0.3), 0px 1px 3px 1px rgba(60, 64, 67, 0.15);\n",
              "    fill: #174EA6;\n",
              "  }\n",
              "\n",
              "  [theme=dark] .colab-df-quickchart {\n",
              "    background-color: #3B4455;\n",
              "    fill: #D2E3FC;\n",
              "  }\n",
              "\n",
              "  [theme=dark] .colab-df-quickchart:hover {\n",
              "    background-color: #434B5C;\n",
              "    box-shadow: 0px 1px 3px 1px rgba(0, 0, 0, 0.15);\n",
              "    filter: drop-shadow(0px 1px 2px rgba(0, 0, 0, 0.3));\n",
              "    fill: #FFFFFF;\n",
              "  }\n",
              "</style>\n",
              "\n",
              "    <script>\n",
              "      async function quickchart(key) {\n",
              "        const containerElement = document.querySelector('#' + key);\n",
              "        const charts = await google.colab.kernel.invokeFunction(\n",
              "            'suggestCharts', [key], {});\n",
              "      }\n",
              "    </script>\n",
              "\n",
              "      <script>\n",
              "\n",
              "function displayQuickchartButton(domScope) {\n",
              "  let quickchartButtonEl =\n",
              "    domScope.querySelector('#df-6d808782-2455-47ee-b9f0-e6874b98339e button.colab-df-quickchart');\n",
              "  quickchartButtonEl.style.display =\n",
              "    google.colab.kernel.accessAllowed ? 'block' : 'none';\n",
              "}\n",
              "\n",
              "        displayQuickchartButton(document);\n",
              "      </script>\n",
              "      <style>\n",
              "    .colab-df-container {\n",
              "      display:flex;\n",
              "      flex-wrap:wrap;\n",
              "      gap: 12px;\n",
              "    }\n",
              "\n",
              "    .colab-df-convert {\n",
              "      background-color: #E8F0FE;\n",
              "      border: none;\n",
              "      border-radius: 50%;\n",
              "      cursor: pointer;\n",
              "      display: none;\n",
              "      fill: #1967D2;\n",
              "      height: 32px;\n",
              "      padding: 0 0 0 0;\n",
              "      width: 32px;\n",
              "    }\n",
              "\n",
              "    .colab-df-convert:hover {\n",
              "      background-color: #E2EBFA;\n",
              "      box-shadow: 0px 1px 2px rgba(60, 64, 67, 0.3), 0px 1px 3px 1px rgba(60, 64, 67, 0.15);\n",
              "      fill: #174EA6;\n",
              "    }\n",
              "\n",
              "    [theme=dark] .colab-df-convert {\n",
              "      background-color: #3B4455;\n",
              "      fill: #D2E3FC;\n",
              "    }\n",
              "\n",
              "    [theme=dark] .colab-df-convert:hover {\n",
              "      background-color: #434B5C;\n",
              "      box-shadow: 0px 1px 3px 1px rgba(0, 0, 0, 0.15);\n",
              "      filter: drop-shadow(0px 1px 2px rgba(0, 0, 0, 0.3));\n",
              "      fill: #FFFFFF;\n",
              "    }\n",
              "  </style>\n",
              "\n",
              "      <script>\n",
              "        const buttonEl =\n",
              "          document.querySelector('#df-0fc3e80e-e52e-4d63-a017-cada15372fc5 button.colab-df-convert');\n",
              "        buttonEl.style.display =\n",
              "          google.colab.kernel.accessAllowed ? 'block' : 'none';\n",
              "\n",
              "        async function convertToInteractive(key) {\n",
              "          const element = document.querySelector('#df-0fc3e80e-e52e-4d63-a017-cada15372fc5');\n",
              "          const dataTable =\n",
              "            await google.colab.kernel.invokeFunction('convertToInteractive',\n",
              "                                                     [key], {});\n",
              "          if (!dataTable) return;\n",
              "\n",
              "          const docLinkHtml = 'Like what you see? Visit the ' +\n",
              "            '<a target=\"_blank\" href=https://colab.research.google.com/notebooks/data_table.ipynb>data table notebook</a>'\n",
              "            + ' to learn more about interactive tables.';\n",
              "          element.innerHTML = '';\n",
              "          dataTable['output_type'] = 'display_data';\n",
              "          await google.colab.output.renderOutput(dataTable, element);\n",
              "          const docLink = document.createElement('div');\n",
              "          docLink.innerHTML = docLinkHtml;\n",
              "          element.appendChild(docLink);\n",
              "        }\n",
              "      </script>\n",
              "    </div>\n",
              "  </div>\n"
            ]
          },
          "metadata": {},
          "execution_count": 38
        }
      ]
    }
  ]
}